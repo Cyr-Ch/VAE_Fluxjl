{
 "cells": [
  {
   "cell_type": "code",
   "execution_count": 1,
   "metadata": {},
   "outputs": [
    {
     "name": "stderr",
     "output_type": "stream",
     "text": [
      "\u001b[32m\u001b[1m   Updating\u001b[22m\u001b[39m registry at `~/.julia/registries/General`\n"
     ]
    },
    {
     "name": "stdout",
     "output_type": "stream",
     "text": [
      "\u001b[?25l    "
     ]
    },
    {
     "name": "stderr",
     "output_type": "stream",
     "text": [
      "\u001b[32m\u001b[1m   Updating\u001b[22m\u001b[39m git-repo `https://github.com/JuliaRegistries/General.git`\n"
     ]
    },
    {
     "name": "stdout",
     "output_type": "stream",
     "text": [
      "\u001b[2K\u001b[?25h[1mFetching:\u001b[22m\u001b[39m [========================================>]  100.0 %  20.1 %=============>                           ]  32.3 % [=================>                       ]  41.8 %53.9 %>             ]  66.1 %================================>        ]  78.3 %90.4 %\u001b[36m\u001b[1mFetching:\u001b[22m\u001b[39m [=======================================> ]  95.9 %\u001b[36m\u001b[1mFetching:\u001b[22m\u001b[39m [=======================================> ]  97.4 %"
     ]
    },
    {
     "name": "stderr",
     "output_type": "stream",
     "text": [
      "\u001b[32m\u001b[1m  Resolving\u001b[22m\u001b[39m package versions...\n",
      "\u001b[32m\u001b[1m  Installed\u001b[22m\u001b[39m Bzip2_jll ───── v1.0.6+4\n",
      "\u001b[32m\u001b[1m  Installed\u001b[22m\u001b[39m FFMPEG_jll ──── v4.3.1+2\n",
      "\u001b[32m\u001b[1m  Installed\u001b[22m\u001b[39m Zlib_jll ────── v1.2.11+16\n",
      "\u001b[32m\u001b[1m  Installed\u001b[22m\u001b[39m FriBidi_jll ─── v1.0.5+5\n",
      "\u001b[32m\u001b[1m  Installed\u001b[22m\u001b[39m JpegTurbo_jll ─ v2.0.1+2\n",
      "\u001b[32m\u001b[1m  Installed\u001b[22m\u001b[39m libpng_jll ──── v1.6.37+5\n",
      "\u001b[32m\u001b[1m  Installed\u001b[22m\u001b[39m Zstd_jll ────── v1.4.5+1\n",
      "\u001b[32m\u001b[1m  Installed\u001b[22m\u001b[39m FreeType2_jll ─ v2.10.1+4\n",
      "\u001b[32m\u001b[1m  Installed\u001b[22m\u001b[39m Libtiff_jll ─── v4.1.0+1\n",
      "######################################################################### 100,0%##O=#  #                                                                       \n",
      "######################################################################### 100,0%##O=#  #                                                                                                     33,3%\n",
      "######################################################################### 100,0%#=#=-#  #                                                                      \n",
      "######################################################################### 100,0%##O=#  #                                                                       \n",
      "######################################################################### 100,0%##O#- #                                                                        \n",
      "######################################################################### 100,0%##O=#  #                                                                       \n",
      "######################################################################### 100,0%##O#- #                                                                        \n",
      "######################################################################### 100,0%##O=#  #                                                                       \n",
      "\u001b[32m\u001b[1m   Updating\u001b[22m\u001b[39m `~/.julia/environments/v1.4/Project.toml`\n",
      "\u001b[90m [no changes]\u001b[39m\n",
      "\u001b[32m\u001b[1m   Updating\u001b[22m\u001b[39m `~/.julia/environments/v1.4/Manifest.toml`\n",
      " \u001b[90m [6e34b625]\u001b[39m\u001b[93m ↑ Bzip2_jll v1.0.6+3 ⇒ v1.0.6+4\u001b[39m\n",
      " \u001b[90m [b22a6f82]\u001b[39m\u001b[93m ↑ FFMPEG_jll v4.3.1+1 ⇒ v4.3.1+2\u001b[39m\n",
      " \u001b[90m [d7e528f0]\u001b[39m\u001b[93m ↑ FreeType2_jll v2.10.1+3 ⇒ v2.10.1+4\u001b[39m\n",
      " \u001b[90m [559328eb]\u001b[39m\u001b[93m ↑ FriBidi_jll v1.0.5+4 ⇒ v1.0.5+5\u001b[39m\n",
      " \u001b[90m [aacddb02]\u001b[39m\u001b[93m ↑ JpegTurbo_jll v2.0.1+1 ⇒ v2.0.1+2\u001b[39m\n",
      " \u001b[90m [89763e89]\u001b[39m\u001b[93m ↑ Libtiff_jll v4.1.0+0 ⇒ v4.1.0+1\u001b[39m\n",
      " \u001b[90m [83775a58]\u001b[39m\u001b[93m ↑ Zlib_jll v1.2.11+15 ⇒ v1.2.11+16\u001b[39m\n",
      " \u001b[90m [3161d3a3]\u001b[39m\u001b[93m ↑ Zstd_jll v1.4.5+0 ⇒ v1.4.5+1\u001b[39m\n",
      " \u001b[90m [b53b4c65]\u001b[39m\u001b[93m ↑ libpng_jll v1.6.37+4 ⇒ v1.6.37+5\u001b[39m\n",
      "┌ Info: Precompiling Flux [587475ba-b771-5e3f-ad9e-33799f191a9c]\n",
      "└ @ Base loading.jl:1260\n",
      "┌ Info: Precompiling MLDatasets [eb30cadb-4394-5ae3-aed4-317e484a6458]\n",
      "└ @ Base loading.jl:1260\n",
      "\u001b[32m\u001b[1m  Resolving\u001b[22m\u001b[39m package versions...\n",
      "\u001b[32m\u001b[1m   Updating\u001b[22m\u001b[39m `~/.julia/environments/v1.4/Project.toml`\n",
      "\u001b[90m [no changes]\u001b[39m\n",
      "\u001b[32m\u001b[1m   Updating\u001b[22m\u001b[39m `~/.julia/environments/v1.4/Manifest.toml`\n",
      "\u001b[90m [no changes]\u001b[39m\n",
      "\u001b[32m\u001b[1m  Resolving\u001b[22m\u001b[39m package versions...\n",
      "\u001b[32m\u001b[1m   Updating\u001b[22m\u001b[39m `~/.julia/environments/v1.4/Project.toml`\n",
      "\u001b[90m [no changes]\u001b[39m\n",
      "\u001b[32m\u001b[1m   Updating\u001b[22m\u001b[39m `~/.julia/environments/v1.4/Manifest.toml`\n",
      "\u001b[90m [no changes]\u001b[39m\n"
     ]
    }
   ],
   "source": [
    "import Pkg; Pkg.add(\"Parameters\")\n",
    "using Base.Iterators: partition\n",
    "using BSON\n",
    "using DrWatson: struct2dict\n",
    "using Flux\n",
    "using Flux: logitbinarycrossentropy, chunk, binarycrossentropy\n",
    "using Flux.Data: DataLoader\n",
    "using Images\n",
    "using Logging: with_logger\n",
    "using MLDatasets\n",
    "using Parameters: @with_kw\n",
    "using ProgressMeter: Progress, next!\n",
    "using TensorBoardLogger: TBLogger, tb_overwrite\n",
    "using Random\n",
    "import Pkg; Pkg.add(\"ImageMagick\")\n",
    "import Pkg; Pkg.add(\"ImageIO\")"
   ]
  },
  {
   "cell_type": "code",
   "execution_count": 2,
   "metadata": {},
   "outputs": [
    {
     "data": {
      "text/plain": [
       "2-element Array{Int64,1}:\n",
       " 600\n",
       " 400"
      ]
     },
     "execution_count": 2,
     "metadata": {},
     "output_type": "execute_result"
    }
   ],
   "source": [
    "obs_dim = 784\n",
    "latent_dim = 32\n",
    "hidden_dims = [600, 400]"
   ]
  },
  {
   "cell_type": "code",
   "execution_count": 3,
   "metadata": {
    "scrolled": true
   },
   "outputs": [
    {
     "name": "stdout",
     "output_type": "stream",
     "text": [
      "(784, 1)(784, 1)(784, 1)(784, 1)(784, 1)(784, 1)(784, 1)(784, 1)(784, 1)(784, 1)(784, 1)(784, 1)"
     ]
    }
   ],
   "source": [
    "trainImg = Flux.Data.MNIST.images()\n",
    "testImg = Flux.Data.MNIST.images(:test)\n",
    "trainLabel = Flux.Data.MNIST.labels()\n",
    "testLabel = Flux.Data.MNIST.labels(:test)\n",
    "\n",
    "\n",
    "for i in 1:60000\n",
    "    gray = Gray.(trainImg[i])\n",
    "    gray = reshape(gray, (obs_dim, 1))\n",
    "    trainImg[i] = Float64.(gray)\n",
    "end\n",
    " \n",
    "train_loader = Flux.Data.DataLoader((trainImg, trainLabel), batchsize=12, shuffle = true);\n",
    "for (ix, iy) in train_loader\n",
    "    for i in 1:12\n",
    "        print(size(ix[i]))\n",
    "    end\n",
    "    break\n",
    "end"
   ]
  },
  {
   "cell_type": "code",
   "execution_count": null,
   "metadata": {},
   "outputs": [],
   "source": [
    "# Batched Data:\n",
    "batch_size = 128\n",
    "train_batched = []\n",
    "\n",
    "for x in partition(trainImg, batch_size)\n",
    "    if size(x)[1] > size(trainImg)[1] % batch_size \n",
    "        x = reshape(cat(x..., dims = 3), 28, 28, batch_size)\n",
    "    else\n",
    "        x = reshape(cat(x..., dims = 3), 28, 28, size(trainImg)[1] % batch_size)\n",
    "    end\n",
    "    push!(train_batched, x)\n",
    "end"
   ]
  },
  {
   "cell_type": "code",
   "execution_count": null,
   "metadata": {},
   "outputs": [],
   "source": [
    "println(size(train_batched[2]))\n",
    "train_batched = Float64.(train_batched)\n",
    "#train_batched = convert(Array{Float64}, train_batched)"
   ]
  },
  {
   "cell_type": "code",
   "execution_count": null,
   "metadata": {},
   "outputs": [],
   "source": [
    "# Batched Labels:\n",
    "batch_size = 128\n",
    "label_train_batched = []\n",
    "\n",
    "for x in partition(trainLabel, batch_size)\n",
    "    if size(x)[1] > size(trainLabel)[1] % batch_size \n",
    "        x = reshape(cat(x..., dims = 2), 1, batch_size)\n",
    "    else\n",
    "        x = reshape(cat(x..., dims = 2), 1, size(trainLabel)[1] % batch_size)\n",
    "    end\n",
    "    push!(label_train_batched, x)\n",
    "end"
   ]
  },
  {
   "cell_type": "code",
   "execution_count": null,
   "metadata": {},
   "outputs": [],
   "source": [
    "println(size(label_train_batched[1]))\n",
    "label_train_batched = convert(Array{Float64}, label_train_batched)"
   ]
  },
  {
   "cell_type": "code",
   "execution_count": 3,
   "metadata": {},
   "outputs": [
    {
     "data": {
      "text/plain": [
       "Decoder (generic function with 5 methods)"
      ]
     },
     "execution_count": 3,
     "metadata": {},
     "output_type": "execute_result"
    }
   ],
   "source": [
    "# define layers\n",
    "struct Encoder\n",
    "    linear\n",
    "    mu\n",
    "    logsigma\n",
    "    Encoder(obs_dim = 784, latent_dim= 32, hidden_dim=[600, 400], device= \"cpu\") = new(\n",
    "        Chain(Dense(obs_dim, hidden_dims[1], relu), Dense(hidden_dims[1], hidden_dims[2], relu)),   # linear\n",
    "        Dense(hidden_dims[2], latent_dim),        # μ\n",
    "        Dense(hidden_dims[2], latent_dim),        # logσ\n",
    "    )\n",
    "end\n",
    "\n",
    "function (encoder::Encoder)(x)\n",
    "    h = encoder.linear(x)\n",
    "    encoder.mu(h), encoder.logsigma(h)\n",
    "end\n",
    "\n",
    "#function encode(input, obs_dim=784, latent_dim=32, hidden_dims=[600, 400])\n",
    " #   encoder = Chain(Dense(obs_dim, hidden_dims[1], relu), Dense(hidden_dims[1], hidden_dims[2], relu))\n",
    "  #  output = encoder(input)\n",
    "   # mu = Dense(size(output)[1], latent_dim)(output)\n",
    "    #logsigma = Dense(size(output)[1], latent_dim)(output)\n",
    "    #return mu, logsigma\n",
    "#end\n",
    "\n",
    "#function decode(z)\n",
    "#    decoder = Chain(Dense(latent_dim, hidden_dims[2], relu), Dense(hidden_dims[2], hidden_dims[1], relu), Dense(hidden_dims[1], obs_dim, sigmoid))\n",
    "#    return decoder(z)\n",
    "#end\n",
    "\n",
    "Decoder(obs_dim= 784, latent_dim= 32, hidden_dim=[600, 400], device= \"cpu\") = Chain(\n",
    "    Dense(latent_dim, hidden_dim[2], relu),\n",
    "    Dense(hidden_dim[2], hidden_dim[1], relu), \n",
    "    Dense(hidden_dims[1], obs_dim, sigmoid)\n",
    ")"
   ]
  },
  {
   "cell_type": "code",
   "execution_count": 4,
   "metadata": {},
   "outputs": [
    {
     "data": {
      "text/plain": [
       "convert_to_image (generic function with 1 method)"
      ]
     },
     "execution_count": 4,
     "metadata": {},
     "output_type": "execute_result"
    }
   ],
   "source": [
    "# define loss function\n",
    "\n",
    "function kl_divergence(mu, logsigma, len)\n",
    "    #power2 = mu.^2\n",
    "    #db = 2 * logsigma\n",
    "    #expo =  exp.(db)\n",
    "    #add = -1 * ones(size(db))\n",
    "    #kl_div_array = 0.5 * (power2 + expo - db + add)\n",
    "    #kl_div = 0\n",
    "    #for i in 1:size(kl_div_array)[1]\n",
    "    #    kl_div += kl_div_array[i]\n",
    "    #end\n",
    "    #return kl_div\n",
    "    return 0.5f0 * sum(@. (exp(2f0 * logsigma) + mu^2 -1f0 - 2f0 * logsigma)) / len\n",
    "end\n",
    "\n",
    "function sample_with_reparam(mu, logsigma, device = \"cpu\")\n",
    "    \n",
    "        sample =  mu + randn(Float32, size(logsigma)) .* exp.(logsigma)\n",
    "        return sample \n",
    "end\n",
    "\n",
    "function sample(num_samples, decode)\n",
    "\n",
    "        z = randn((num_samples, latent_dim))\n",
    "        theta = decode(z)\n",
    "        sample = torch.bernoulli(theta)\n",
    "        return sample\n",
    "end\n",
    "\n",
    "function elbo(encode, decode, input, device = \"cpu\")\n",
    "\n",
    "    mu, logsigma = encode(input)\n",
    "    len = size(input)[end]\n",
    "    z = sample_with_reparam(mu, logsigma)\n",
    "    theta = decode(z)\n",
    "    log_obs_prob = -sum(logitbinarycrossentropy(theta, input))/len\n",
    "    kl = kl_divergence(mu, logsigma, len)\n",
    "    elbo = log_obs_prob - kl\n",
    "    return elbo\n",
    "end\n",
    "\n",
    "function convert_to_image(x)\n",
    "    Gray.(permutedims(vcat(reshape.(chunk(sigmoid.(x), 12), 28, :)...), (2, 1)))\n",
    "end"
   ]
  },
  {
   "cell_type": "code",
   "execution_count": 5,
   "metadata": {},
   "outputs": [
    {
     "data": {
      "text/plain": [
       "model_loss (generic function with 1 method)"
      ]
     },
     "execution_count": 5,
     "metadata": {},
     "output_type": "execute_result"
    }
   ],
   "source": [
    "function model_loss(encoder, decoder, x)\n",
    "    mu, logsigma, decoder_z = reconstuct(encoder, decoder, x)\n",
    "    len = size(x)[end]\n",
    "    # KL-divergence\n",
    "    kl_q_p = 0.5f0 * sum(@. (exp(2f0 * logsigma) + mu^2 -1f0 - 2f0 * logsigma)) / len\n",
    "\n",
    "    logp_x_z = -sum(Flux.Losses.binarycrossentropy.(decoder_z, x)) / len\n",
    "    # regularization\n",
    "    #reg = λ * sum(x->sum(x.^2), Flux.params(decoder))\n",
    "    \n",
    "    -logp_x_z + kl_q_p \n",
    "end"
   ]
  },
  {
   "cell_type": "code",
   "execution_count": 6,
   "metadata": {},
   "outputs": [
    {
     "data": {
      "text/plain": [
       "reconstuct (generic function with 2 methods)"
      ]
     },
     "execution_count": 6,
     "metadata": {},
     "output_type": "execute_result"
    }
   ],
   "source": [
    "function reconstuct(encoder, decoder, x, device=\"cpu\")\n",
    "    mu, logsigma = encoder(x)\n",
    "    z = mu + randn(Float32, size(logsigma)) .* exp.(logsigma)\n",
    "    mu, logsigma, decoder(z)\n",
    "end"
   ]
  },
  {
   "cell_type": "code",
   "execution_count": null,
   "metadata": {},
   "outputs": [
    {
     "name": "stderr",
     "output_type": "stream",
     "text": [
      "┌ Warning: ProgressMeter by default refresh meters with additional information in IJulia via `IJulia.clear_output`, which clears all outputs in the cell. \n",
      "│  - To prevent this behaviour, do `ProgressMeter.ijulia_behavior(:append)`. \n",
      "│  - To disable this warning message, do `ProgressMeter.ijulia_behavior(:clear)`.\n",
      "└ @ ProgressMeter /home/cyrine/.julia/packages/ProgressMeter/OUQkp/src/ProgressMeter.jl:441\n",
      "\r",
      "\u001b[32mProgress:   3%|█▎                                       |  ETA: 0:52:33\u001b[39m\n",
      "\u001b[34m  loss:  222.77444\u001b[39m"
     ]
    }
   ],
   "source": [
    "batch_size = 12\n",
    "xtrain, ytrain = MLDatasets.MNIST.traindata(Float32)\n",
    "xtrain = reshape(xtrain, 28^2, :)\n",
    "train_loader = Flux.Data.DataLoader(xtrain, ytrain, batchsize=batch_size, shuffle=true)\n",
    "learning_rate = 1e-4\n",
    "max_epochs = 10\n",
    "display_step = 200\n",
    "encoder = Encoder()\n",
    "decoder = Decoder()\n",
    "opt = ADAM(learning_rate)\n",
    "device = \"cpu\"\n",
    "ps = Flux.params(encoder.linear, encoder.mu, encoder.logsigma, decoder)\n",
    "tblogger = TBLogger(\"/home/cyrine/VAE_Fluxjl/\", tb_overwrite)\n",
    "original, _ = first(train_loader)\n",
    "\n",
    "# training\n",
    "train_steps = 0\n",
    "@info \"Start Training, total $(max_epochs) epochs\"\n",
    "for epoch = 1:max_epochs\n",
    "    @info \"Epoch $(epoch)\"\n",
    "    progress = Progress(length(train_loader))\n",
    "\n",
    "    for (x, _) in train_loader \n",
    "        loss, back = Flux.pullback(ps) do\n",
    "            model_loss(encoder, decoder, x)\n",
    "        end\n",
    "        print(\"here\")\n",
    "        grad = back(1f0)\n",
    "        print(\"HERE\")\n",
    "        Flux.Optimise.update!(opt, ps, grad)\n",
    "        # progress meter\n",
    "        next!(progress; showvalues=[(:loss, loss)]) \n",
    "\n",
    "        # logging with TensorBoard\n",
    "        if train_steps % display_step == 0\n",
    "            with_logger(tblogger) do\n",
    "                    @info \"train\" loss=loss\n",
    "            end\n",
    "        end\n",
    "\n",
    "        train_steps += 1\n",
    "    end\n",
    "    # save image\n",
    "    _, _, rec_original = reconstuct(encoder, decoder, original, device)\n",
    "    image = convert_to_image(rec_original)\n",
    "    image_path = joinpath(\"/home/cyrine/VAE_Fluxjl/\", \"epoch_$(epoch).png\")\n",
    "    save(image_path, image)\n",
    "    @info \"Image saved: $(image_path)\"\n",
    "end\n",
    "\n",
    "\n",
    "\n",
    "            "
   ]
  },
  {
   "cell_type": "code",
   "execution_count": null,
   "metadata": {},
   "outputs": [],
   "source": [
    "# save model\n",
    "model_path = joinpath(\"/home/cyrine/VAE_Fluxjl/\", \"model.bson\") \n",
    "let encoder = cpu(encoder), decoder = cpu(decoder)\n",
    "    BSON.@save model_path encoder decoder \n",
    "    @info \"Model saved: $(model_path)\"\n",
    "end"
   ]
  },
  {
   "cell_type": "code",
   "execution_count": null,
   "metadata": {},
   "outputs": [],
   "source": [
    "## compute Loss after fitting\n",
    "x_sample = next_batch(vae.loader, 100)[1]\n",
    "x_sample = broadcast(/,x_sample,maximum(x_sample,2))\n",
    "cur_loss, = run(vae.sess, vae.Loss, Dict(vae.x => x_sample))"
   ]
  },
  {
   "cell_type": "code",
   "execution_count": null,
   "metadata": {},
   "outputs": [],
   "source": [
    "## plot some reconstructed samples\n",
    "x_sample = next_batch(vae.loader, 100)[1]\n",
    "x_sample = broadcast(/,x_sample,maximum(x_sample,2));\n",
    "x_reconstruct = reconstruct(vae, x_sample)\n",
    "\n",
    "figure(figsize=(8, 12))\n",
    "\n",
    "for i in 1:5\n",
    "\n",
    "    subplot(5, 2, 2*i-1)\n",
    "    imshow(reshape(x_sample[i,:], 28, 28), vmin=0, vmax=1, cmap=\"gray\")\n",
    "    title(\"Test input\")\n",
    "    colorbar()\n",
    "    \n",
    "    subplot(5, 2, 2*i)\n",
    "    imshow(reshape(x_reconstruct[i,:], 28, 28), vmin=0, vmax=1, cmap=\"gray\")\n",
    "    title(\"Reconstruction\")\n",
    "    colorbar()\n",
    "end\n",
    "\n",
    "tight_layout()"
   ]
  }
 ],
 "metadata": {
  "kernelspec": {
   "display_name": "Julia 1.4.2",
   "language": "julia",
   "name": "julia-1.4"
  },
  "language_info": {
   "file_extension": ".jl",
   "mimetype": "application/julia",
   "name": "julia",
   "version": "1.4.2"
  }
 },
 "nbformat": 4,
 "nbformat_minor": 4
}
