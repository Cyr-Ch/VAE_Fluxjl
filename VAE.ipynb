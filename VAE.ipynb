{
 "cells": [
  {
   "cell_type": "code",
   "execution_count": 2,
   "metadata": {},
   "outputs": [
    {
     "name": "stderr",
     "output_type": "stream",
     "text": [
      "\u001b[32m\u001b[1m   Updating\u001b[22m\u001b[39m registry at `~/.julia/registries/General`\n"
     ]
    },
    {
     "name": "stdout",
     "output_type": "stream",
     "text": [
      "\u001b[?25l    "
     ]
    },
    {
     "name": "stderr",
     "output_type": "stream",
     "text": [
      "\u001b[32m\u001b[1m   Updating\u001b[22m\u001b[39m git-repo `https://github.com/JuliaRegistries/General.git`\n"
     ]
    },
    {
     "name": "stdout",
     "output_type": "stream",
     "text": [
      "\u001b[36m\u001b[1mFetching:\u001b[22m\u001b[39m [>                                        ]  0.0 %\r",
      "    \u001b[36m\u001b[1mFetching:\u001b[22m\u001b[39m [=>                                       ]  0.1 %\r",
      "    \u001b[36m\u001b[1mFetching:\u001b[22m\u001b[39m [=>                                       ]  0.3 %\r",
      "    \u001b[36m\u001b[1mFetching:\u001b[22m\u001b[39m [=>                                       ]  0.4 %\r",
      "    \u001b[36m\u001b[1mFetching:\u001b[22m\u001b[39m [=>                                       ]  0.6 %\r",
      "    \u001b[36m\u001b[1mFetching:\u001b[22m\u001b[39m [=>                                       ]  0.7 %\r",
      "    \u001b[36m\u001b[1mFetching:\u001b[22m\u001b[39m [=>                                       ]  0.8 %\r",
      "    \u001b[36m\u001b[1mFetching:\u001b[22m\u001b[39m [=>                                       ]  1.0 %\r",
      "    \u001b[36m\u001b[1mFetching:\u001b[22m\u001b[39m [=>                                       ]  1.1 %\r",
      "    \u001b[36m\u001b[1mFetching:\u001b[22m\u001b[39m [=>                                       ]  1.3 %\r",
      "    \u001b[36m\u001b[1mFetching:\u001b[22m\u001b[39m [=>                                       ]  1.4 %\r",
      "    \u001b[36m\u001b[1mFetching:\u001b[22m\u001b[39m [=>                                       ]  1.5 %\r",
      "    \u001b[36m\u001b[1mFetching:\u001b[22m\u001b[39m [=>                                       ]  1.7 %\r",
      "    \u001b[36m\u001b[1mFetching:\u001b[22m\u001b[39m [=>                                       ]  1.8 %\r",
      "    \u001b[36m\u001b[1mFetching:\u001b[22m\u001b[39m [=>                                       ]  2.0 %\r",
      "    \u001b[36m\u001b[1mFetching:\u001b[22m\u001b[39m [=>                                       ]  2.1 %\r",
      "    \u001b[36m\u001b[1mFetching:\u001b[22m\u001b[39m [=>                                       ]  2.2 %\r",
      "    \u001b[36m\u001b[1mFetching:\u001b[22m\u001b[39m [=>                                       ]  2.4 %\r",
      "    \u001b[36m\u001b[1mFetching:\u001b[22m\u001b[39m [==>                                      ]  2.5 %\r",
      "    \u001b[36m\u001b[1mFetching:\u001b[22m\u001b[39m [==>                                      ]  2.7 %\r",
      "    \u001b[36m\u001b[1mFetching:\u001b[22m\u001b[39m [==>                                      ]  2.8 %\r",
      "    \u001b[36m\u001b[1mFetching:\u001b[22m\u001b[39m [==>                                      ]  2.9 %\r",
      "    \u001b[36m\u001b[1mFetching:\u001b[22m\u001b[39m [==>                                      ]  3.1 %\r",
      "    \u001b[36m\u001b[1mFetching:\u001b[22m\u001b[39m [==>                                      ]  3.2 %\r",
      "    \u001b[36m\u001b[1mFetching:\u001b[22m\u001b[39m [==>                                      ]  3.4 %\r",
      "    \u001b[36m\u001b[1mFetching:\u001b[22m\u001b[39m [==>                                      ]  3.5 %\r",
      "    \u001b[36m\u001b[1mFetching:\u001b[22m\u001b[39m [==>                                      ]  3.6 %\r",
      "    \u001b[36m\u001b[1mFetching:\u001b[22m\u001b[39m [==>                                      ]  3.8 %\r",
      "    \u001b[36m\u001b[1mFetching:\u001b[22m\u001b[39m [==>                                      ]  3.9 %\r",
      "    \u001b[36m\u001b[1mFetching:\u001b[22m\u001b[39m [==>                                      ]  4.1 %\r",
      "    \u001b[36m\u001b[1mFetching:\u001b[22m\u001b[39m [==>                                      ]  4.2 %\r",
      "    \u001b[36m\u001b[1mFetching:\u001b[22m\u001b[39m [==>                                      ]  4.3 %\r",
      "    \u001b[36m\u001b[1mFetching:\u001b[22m\u001b[39m [==>                                      ]  4.5 %\r",
      "    \u001b[36m\u001b[1mFetching:\u001b[22m\u001b[39m [==>                                      ]  4.6 %\r",
      "    \u001b[36m\u001b[1mFetching:\u001b[22m\u001b[39m [==>                                      ]  4.8 %\r",
      "    \u001b[36m\u001b[1mFetching:\u001b[22m\u001b[39m [==>                                      ]  4.9 %\r",
      "    \u001b[36m\u001b[1mFetching:\u001b[22m\u001b[39m [===>                                     ]  5.0 %\r",
      "    \u001b[36m\u001b[1mFetching:\u001b[22m\u001b[39m [===>                                     ]  5.2 %\r",
      "    \u001b[36m\u001b[1mFetching:\u001b[22m\u001b[39m [===>                                     ]  5.3 %\r",
      "    \u001b[36m\u001b[1mFetching:\u001b[22m\u001b[39m [===>                                     ]  5.5 %\r",
      "    \u001b[36m\u001b[1mFetching:\u001b[22m\u001b[39m [===>                                     ]  5.6 %\r",
      "    \u001b[36m\u001b[1mFetching:\u001b[22m\u001b[39m [===>                                     ]  5.7 %\r",
      "    \u001b[36m\u001b[1mFetching:\u001b[22m\u001b[39m [===>                                     ]  5.9 %\r",
      "    \u001b[36m\u001b[1mFetching:\u001b[22m\u001b[39m [===>                                     ]  6.0 %\r",
      "    \u001b[36m\u001b[1mFetching:\u001b[22m\u001b[39m [===>                                     ]  6.1 %\r",
      "    \u001b[36m\u001b[1mFetching:\u001b[22m\u001b[39m [===>                                     ]  6.3 %\r",
      "    \u001b[36m\u001b[1mFetching:\u001b[22m\u001b[39m [===>                                     ]  6.4 %\r",
      "    \u001b[36m\u001b[1mFetching:\u001b[22m\u001b[39m [===>                                     ]  6.6 %\r",
      "    \u001b[36m\u001b[1mFetching:\u001b[22m\u001b[39m [===>                                     ]  6.7 %\r",
      "    \u001b[36m\u001b[1mFetching:\u001b[22m\u001b[39m [===>                                     ]  6.8 %\r",
      "    \u001b[36m\u001b[1mFetching:\u001b[22m\u001b[39m [===>                                     ]  7.0 %\r",
      "    \u001b[36m\u001b[1mFetching:\u001b[22m\u001b[39m [===>                                     ]  7.1 %\r",
      "    \u001b[36m\u001b[1mFetching:\u001b[22m\u001b[39m [===>                                     ]  7.3 %\r",
      "    \u001b[36m\u001b[1mFetching:\u001b[22m\u001b[39m [===>                                     ]  7.4 %\r",
      "    \u001b[36m\u001b[1mFetching:\u001b[22m\u001b[39m [====>                                    ]  7.5 %\r",
      "    \u001b[36m\u001b[1mFetching:\u001b[22m\u001b[39m [====>                                    ]  7.7 %\r",
      "    \u001b[36m\u001b[1mFetching:\u001b[22m\u001b[39m [====>                                    ]  7.8 %\r",
      "    \u001b[36m\u001b[1mFetching:\u001b[22m\u001b[39m [====>                                    ]  8.0 %\r",
      "    \u001b[36m\u001b[1mFetching:\u001b[22m\u001b[39m [====>                                    ]  8.1 %\r",
      "    \u001b[36m\u001b[1mFetching:\u001b[22m\u001b[39m [====>                                    ]  8.2 %\r",
      "    \u001b[36m\u001b[1mFetching:\u001b[22m\u001b[39m [====>                                    ]  8.4 %\r",
      "    \u001b[36m\u001b[1mFetching:\u001b[22m\u001b[39m [====>                                    ]  8.5 %\r",
      "    \u001b[36m\u001b[1mFetching:\u001b[22m\u001b[39m [====>                                    ]  8.7 %\r",
      "    \u001b[36m\u001b[1mFetching:\u001b[22m\u001b[39m [====>                                    ]  8.8 %\r",
      "    \u001b[36m\u001b[1mFetching:\u001b[22m\u001b[39m [====>                                    ]  8.9 %\r",
      "    \u001b[36m\u001b[1mFetching:\u001b[22m\u001b[39m [====>                                    ]  9.1 %\r",
      "    \u001b[36m\u001b[1mFetching:\u001b[22m\u001b[39m [====>                                    ]  9.2 %\r",
      "    \u001b[36m\u001b[1mFetching:\u001b[22m\u001b[39m [====>                                    ]  9.4 %\r",
      "    \u001b[36m\u001b[1mFetching:\u001b[22m\u001b[39m [====>                                    ]  9.5 %\r",
      "    \u001b[36m\u001b[1mFetching:\u001b[22m\u001b[39m [====>                                    ]  9.6 %\r",
      "    \u001b[36m\u001b[1mFetching:\u001b[22m\u001b[39m [====>                                    ]  9.8 %\r",
      "    \u001b[36m\u001b[1mFetching:\u001b[22m\u001b[39m [====>                                    ]  9.9 %\r",
      "    \u001b[36m\u001b[1mFetching:\u001b[22m\u001b[39m [=====>                                   ]  10.1 %\r",
      "    \u001b[36m\u001b[1mFetching:\u001b[22m\u001b[39m [=====>                                   ]  10.2 %\r",
      "    \u001b[36m\u001b[1mFetching:\u001b[22m\u001b[39m [=====>                                   ]  10.3 %\r",
      "    \u001b[36m\u001b[1mFetching:\u001b[22m\u001b[39m [=====>                                   ]  10.5 %\r",
      "    \u001b[36m\u001b[1mFetching:\u001b[22m\u001b[39m [=====>                                   ]  10.6 %\r",
      "    \u001b[36m\u001b[1mFetching:\u001b[22m\u001b[39m [=====>                                   ]  10.8 %\r",
      "    \u001b[36m\u001b[1mFetching:\u001b[22m\u001b[39m [=====>                                   ]  10.9 %\r",
      "    \u001b[36m\u001b[1mFetching:\u001b[22m\u001b[39m [=====>                                   ]  11.0 %\r",
      "    \u001b[36m\u001b[1mFetching:\u001b[22m\u001b[39m [=====>                                   ]  11.2 %\r",
      "    \u001b[36m\u001b[1mFetching:\u001b[22m\u001b[39m [=====>                                   ]  11.3 %\r",
      "    \u001b[36m\u001b[1mFetching:\u001b[22m\u001b[39m [=====>                                   ]  11.5 %\r",
      "    \u001b[36m\u001b[1mFetching:\u001b[22m\u001b[39m [=====>                                   ]  11.6 %\r",
      "    \u001b[36m\u001b[1mFetching:\u001b[22m\u001b[39m [=====>                                   ]  11.7 %\r",
      "    \u001b[36m\u001b[1mFetching:\u001b[22m\u001b[39m [=====>                                   ]  11.9 %\r",
      "    \u001b[36m\u001b[1mFetching:\u001b[22m\u001b[39m [=====>                                   ]  12.0 %\r",
      "    \u001b[36m\u001b[1mFetching:\u001b[22m\u001b[39m [=====>                                   ]  12.2 %\r",
      "    \u001b[36m\u001b[1mFetching:\u001b[22m\u001b[39m [=====>                                   ]  12.3 %\r",
      "    \u001b[36m\u001b[1mFetching:\u001b[22m\u001b[39m [=====>                                   ]  12.4 %\r",
      "    \u001b[36m\u001b[1mFetching:\u001b[22m\u001b[39m [======>                                  ]  12.6 %\r",
      "    \u001b[36m\u001b[1mFetching:\u001b[22m\u001b[39m [======>                                  ]  12.7 %\r",
      "    \u001b[36m\u001b[1mFetching:\u001b[22m\u001b[39m [======>                                  ]  12.9 %\r",
      "    \u001b[36m\u001b[1mFetching:\u001b[22m\u001b[39m [======>                                  ]  13.0 %\r",
      "    \u001b[36m\u001b[1mFetching:\u001b[22m\u001b[39m [======>                                  ]  13.1 %\r",
      "    \u001b[36m\u001b[1mFetching:\u001b[22m\u001b[39m [======>                                  ]  13.3 %\r",
      "    \u001b[36m\u001b[1mFetching:\u001b[22m\u001b[39m [======>                                  ]  13.4 %\r",
      "    \u001b[36m\u001b[1mFetching:\u001b[22m\u001b[39m [======>                                  ]  13.6 %\r",
      "    \u001b[36m\u001b[1mFetching:\u001b[22m\u001b[39m [======>                                  ]  13.7 %\r",
      "    \u001b[36m\u001b[1mFetching:\u001b[22m\u001b[39m [======>                                  ]  13.8 %\r",
      "    \u001b[36m\u001b[1mFetching:\u001b[22m\u001b[39m [======>                                  ]  14.0 %\r",
      "    \u001b[36m\u001b[1mFetching:\u001b[22m\u001b[39m [======>                                  ]  14.1 %\r",
      "    \u001b[36m\u001b[1mFetching:\u001b[22m\u001b[39m [======>                                  ]  14.3 %\r",
      "    \u001b[36m\u001b[1mFetching:\u001b[22m\u001b[39m [======>                                  ]  14.4 %\r",
      "    \u001b[36m\u001b[1mFetching:\u001b[22m\u001b[39m [======>                                  ]  14.5 %\r",
      "    \u001b[36m\u001b[1mFetching:\u001b[22m\u001b[39m [======>                                  ]  14.7 %\r",
      "    \u001b[36m\u001b[1mFetching:\u001b[22m\u001b[39m [======>                                  ]  14.8 %\r",
      "    \u001b[36m\u001b[1mFetching:\u001b[22m\u001b[39m [======>                                  ]  15.0 %\r",
      "    \u001b[36m\u001b[1mFetching:\u001b[22m\u001b[39m [=======>                                 ]  15.1 %\r",
      "    \u001b[36m\u001b[1mFetching:\u001b[22m\u001b[39m [=======>                                 ]  15.2 %\r",
      "    \u001b[36m\u001b[1mFetching:\u001b[22m\u001b[39m [=======>                                 ]  15.4 %\r",
      "    \u001b[36m\u001b[1mFetching:\u001b[22m\u001b[39m [=======>                                 ]  15.5 %\r",
      "    \u001b[36m\u001b[1mFetching:\u001b[22m\u001b[39m [=======>                                 ]  15.7 %\r",
      "    \u001b[36m\u001b[1mFetching:\u001b[22m\u001b[39m [=======>                                 ]  15.8 %\r",
      "    \u001b[36m\u001b[1mFetching:\u001b[22m\u001b[39m [=======>                                 ]  15.9 %\r",
      "    \u001b[36m\u001b[1mFetching:\u001b[22m\u001b[39m [=======>                                 ]  16.1 %\r",
      "    \u001b[36m\u001b[1mFetching:\u001b[22m\u001b[39m [=======>                                 ]  16.2 %\r",
      "    \u001b[36m\u001b[1mFetching:\u001b[22m\u001b[39m [=======>                                 ]  16.4 %\r",
      "    \u001b[36m\u001b[1mFetching:\u001b[22m\u001b[39m [=======>                                 ]  16.5 %\r",
      "    \u001b[36m\u001b[1mFetching:\u001b[22m\u001b[39m [=======>                                 ]  16.6 %\r",
      "    \u001b[36m\u001b[1mFetching:\u001b[22m\u001b[39m [=======>                                 ]  16.8 %\r",
      "    \u001b[36m\u001b[1mFetching:\u001b[22m\u001b[39m"
     ]
    },
    {
     "name": "stdout",
     "output_type": "stream",
     "text": [
      " [=======>                                 ]  16.9 %\r",
      "    \u001b[36m\u001b[1mFetching:\u001b[22m\u001b[39m [=======>                                 ]  17.1 %\r",
      "    \u001b[36m\u001b[1mFetching:\u001b[22m\u001b[39m [=======>                                 ]  17.2 %\r",
      "    \u001b[36m\u001b[1mFetching:\u001b[22m\u001b[39m [=======>                                 ]  17.3 %\r",
      "    \u001b[36m\u001b[1mFetching:\u001b[22m\u001b[39m [=======>                                 ]  17.5 %\r",
      "    \u001b[36m\u001b[1mFetching:\u001b[22m\u001b[39m [========>                                ]  17.6 %\r",
      "    \u001b[36m\u001b[1mFetching:\u001b[22m\u001b[39m [========>                                ]  17.7 %\r",
      "    \u001b[36m\u001b[1mFetching:\u001b[22m\u001b[39m [========>                                ]  17.9 %\r",
      "    \u001b[36m\u001b[1mFetching:\u001b[22m\u001b[39m [========>                                ]  18.0 %\r",
      "    \u001b[36m\u001b[1mFetching:\u001b[22m\u001b[39m [========>                                ]  18.2 %\r",
      "    \u001b[36m\u001b[1mFetching:\u001b[22m\u001b[39m [========>                                ]  18.3 %\r",
      "    \u001b[36m\u001b[1mFetching:\u001b[22m\u001b[39m [========>                                ]  18.4 %\r",
      "    \u001b[36m\u001b[1mFetching:\u001b[22m\u001b[39m [========>                                ]  18.6 %\r",
      "    \u001b[36m\u001b[1mFetching:\u001b[22m\u001b[39m [========>                                ]  18.7 %\r",
      "    \u001b[36m\u001b[1mFetching:\u001b[22m\u001b[39m [========>                                ]  18.9 %\r",
      "    \u001b[36m\u001b[1mFetching:\u001b[22m\u001b[39m [========>                                ]  19.0 %\r",
      "    \u001b[36m\u001b[1mFetching:\u001b[22m\u001b[39m [========>                                ]  19.1 %\r",
      "    \u001b[36m\u001b[1mFetching:\u001b[22m\u001b[39m [========>                                ]  19.3 %\r",
      "    \u001b[36m\u001b[1mFetching:\u001b[22m\u001b[39m [========>                                ]  19.4 %\r",
      "    \u001b[36m\u001b[1mFetching:\u001b[22m\u001b[39m [========>                                ]  19.6 %\r",
      "    \u001b[36m\u001b[1mFetching:\u001b[22m\u001b[39m [========>                                ]  19.7 %\r",
      "    \u001b[36m\u001b[1mFetching:\u001b[22m\u001b[39m [========>                                ]  19.8 %\r",
      "    \u001b[36m\u001b[1mFetching:\u001b[22m\u001b[39m [========>                                ]  20.0 %\r",
      "    \u001b[36m\u001b[1mFetching:\u001b[22m\u001b[39m [=========>                               ]  20.1 %\r",
      "    \u001b[36m\u001b[1mFetching:\u001b[22m\u001b[39m [=========>                               ]  20.3 %\r",
      "    \u001b[36m\u001b[1mFetching:\u001b[22m\u001b[39m [=========>                               ]  20.4 %\r",
      "    \u001b[36m\u001b[1mFetching:\u001b[22m\u001b[39m [=========>                               ]  20.5 %\r",
      "    \u001b[36m\u001b[1mFetching:\u001b[22m\u001b[39m [=========>                               ]  20.7 %\r",
      "    \u001b[36m\u001b[1mFetching:\u001b[22m\u001b[39m [=========>                               ]  20.8 %\r",
      "    \u001b[36m\u001b[1mFetching:\u001b[22m\u001b[39m [=========>                               ]  21.0 %\r",
      "    \u001b[36m\u001b[1mFetching:\u001b[22m\u001b[39m [=========>                               ]  21.1 %\r",
      "    \u001b[36m\u001b[1mFetching:\u001b[22m\u001b[39m [=========>                               ]  21.2 %\r",
      "    \u001b[36m\u001b[1mFetching:\u001b[22m\u001b[39m [=========>                               ]  21.4 %\r",
      "    \u001b[36m\u001b[1mFetching:\u001b[22m\u001b[39m [=========>                               ]  21.5 %\r",
      "    \u001b[36m\u001b[1mFetching:\u001b[22m\u001b[39m [=========>                               ]  21.7 %\r",
      "    \u001b[36m\u001b[1mFetching:\u001b[22m\u001b[39m [=========>                               ]  21.8 %\r",
      "    \u001b[36m\u001b[1mFetching:\u001b[22m\u001b[39m [=========>                               ]  21.9 %\r",
      "    \u001b[36m\u001b[1mFetching:\u001b[22m\u001b[39m [=========>                               ]  22.1 %\r",
      "    \u001b[36m\u001b[1mFetching:\u001b[22m\u001b[39m [=========>                               ]  22.2 %\r",
      "    \u001b[36m\u001b[1mFetching:\u001b[22m\u001b[39m [=========>                               ]  22.4 %\r",
      "    \u001b[36m\u001b[1mFetching:\u001b[22m\u001b[39m [==========>                              ]  22.5 %\r",
      "    \u001b[36m\u001b[1mFetching:\u001b[22m\u001b[39m [==========>                              ]  22.6 %\r",
      "    \u001b[36m\u001b[1mFetching:\u001b[22m\u001b[39m [==========>                              ]  22.8 %\r",
      "    \u001b[36m\u001b[1mFetching:\u001b[22m\u001b[39m [==========>                              ]  22.9 %\r",
      "    \u001b[36m\u001b[1mFetching:\u001b[22m\u001b[39m [==========>                              ]  23.1 %\r",
      "    \u001b[36m\u001b[1mFetching:\u001b[22m\u001b[39m [==========>                              ]  23.2 %\r",
      "    \u001b[36m\u001b[1mFetching:\u001b[22m\u001b[39m [==========>                              ]  23.3 %\r",
      "    \u001b[36m\u001b[1mFetching:\u001b[22m\u001b[39m [==========>                              ]  23.5 %\r",
      "    \u001b[36m\u001b[1mFetching:\u001b[22m\u001b[39m [==========>                              ]  23.6 %\r",
      "    \u001b[36m\u001b[1mFetching:\u001b[22m\u001b[39m [==========>                              ]  23.8 %\r",
      "    \u001b[36m\u001b[1mFetching:\u001b[22m\u001b[39m [==========>                              ]  23.9 %\r",
      "    \u001b[36m\u001b[1mFetching:\u001b[22m\u001b[39m [==========>                              ]  24.0 %\r",
      "    \u001b[36m\u001b[1mFetching:\u001b[22m\u001b[39m [==========>                              ]  24.2 %\r",
      "    \u001b[36m\u001b[1mFetching:\u001b[22m\u001b[39m [==========>                              ]  24.3 %\r",
      "    \u001b[36m\u001b[1mFetching:\u001b[22m\u001b[39m [==========>                              ]  24.5 %\r",
      "    \u001b[36m\u001b[1mFetching:\u001b[22m\u001b[39m [==========>                              ]  24.6 %\r",
      "    \u001b[36m\u001b[1mFetching:\u001b[22m\u001b[39m [==========>                              ]  24.7 %\r",
      "    \u001b[36m\u001b[1mFetching:\u001b[22m\u001b[39m [==========>                              ]  24.9 %\r",
      "    \u001b[36m\u001b[1mFetching:\u001b[22m\u001b[39m [===========>                             ]  25.0 %\r",
      "    \u001b[36m\u001b[1mFetching:\u001b[22m\u001b[39m [===========>                             ]  25.2 %\r",
      "    \u001b[36m\u001b[1mFetching:\u001b[22m\u001b[39m [===========>                             ]  25.3 %\r",
      "    \u001b[36m\u001b[1mFetching:\u001b[22m\u001b[39m [===========>                             ]  25.4 %\r",
      "    \u001b[36m\u001b[1mFetching:\u001b[22m\u001b[39m [===========>                             ]  25.6 %\r",
      "    \u001b[36m\u001b[1mFetching:\u001b[22m\u001b[39m [===========>                             ]  25.7 %\r",
      "    \u001b[36m\u001b[1mFetching:\u001b[22m\u001b[39m [===========>                             ]  25.9 %\r",
      "    \u001b[36m\u001b[1mFetching:\u001b[22m\u001b[39m [===========>                             ]  26.0 %\r",
      "    \u001b[36m\u001b[1mFetching:\u001b[22m\u001b[39m [===========>                             ]  26.1 %\r",
      "    \u001b[36m\u001b[1mFetching:\u001b[22m\u001b[39m [===========>                             ]  26.3 %\r",
      "    \u001b[36m\u001b[1mFetching:\u001b[22m\u001b[39m [===========>                             ]  26.4 %\r",
      "    \u001b[36m\u001b[1mFetching:\u001b[22m\u001b[39m [===========>                             ]  26.6 %\r",
      "    \u001b[36m\u001b[1mFetching:\u001b[22m\u001b[39m [===========>                             ]  26.7 %\r",
      "    \u001b[36m\u001b[1mFetching:\u001b[22m\u001b[39m [===========>                             ]  26.8 %\r",
      "    \u001b[36m\u001b[1mFetching:\u001b[22m\u001b[39m [===========>                             ]  27.0 %\r",
      "    \u001b[36m\u001b[1mFetching:\u001b[22m\u001b[39m [===========>                             ]  27.1 %\r",
      "    \u001b[36m\u001b[1mFetching:\u001b[22m\u001b[39m [===========>                             ]  27.3 %\r",
      "    \u001b[36m\u001b[1mFetching:\u001b[22m\u001b[39m [===========>                             ]  27.4 %\r",
      "    \u001b[36m\u001b[1mFetching:\u001b[22m\u001b[39m [============>                            ]  27.5 %\r",
      "    \u001b[36m\u001b[1mFetching:\u001b[22m\u001b[39m [============>                            ]  27.7 %\r",
      "    \u001b[36m\u001b[1mFetching:\u001b[22m\u001b[39m [============>                            ]  27.8 %\r",
      "    \u001b[36m\u001b[1mFetching:\u001b[22m\u001b[39m [============>                            ]  28.0 %\r",
      "    \u001b[36m\u001b[1mFetching:\u001b[22m\u001b[39m [============>                            ]  28.1 %\r",
      "    \u001b[36m\u001b[1mFetching:\u001b[22m\u001b[39m [============>                            ]  28.2 %\r",
      "    \u001b[36m\u001b[1mFetching:\u001b[22m\u001b[39m [============>                            ]  28.4 %\r",
      "    \u001b[36m\u001b[1mFetching:\u001b[22m\u001b[39m [============>                            ]  28.5 %\r",
      "    \u001b[36m\u001b[1mFetching:\u001b[22m\u001b[39m [============>                            ]  28.7 %\r",
      "    \u001b[36m\u001b[1mFetching:\u001b[22m\u001b[39m [============>                            ]  28.8 %\r",
      "    \u001b[36m\u001b[1mFetching:\u001b[22m\u001b[39m [============>                            ]  28.9 %\r",
      "    \u001b[36m\u001b[1mFetching:\u001b[22m\u001b[39m [============>                            ]  29.1 %\r",
      "    \u001b[36m\u001b[1mFetching:\u001b[22m\u001b[39m [============>                            ]  29.2 %\r",
      "    \u001b[36m\u001b[1mFetching:\u001b[22m\u001b[39m [============>                            ]  29.4 %\r",
      "    \u001b[36m\u001b[1mFetching:\u001b[22m\u001b[39m [============>                            ]  29.5 %\r",
      "    \u001b[36m\u001b[1mFetching:\u001b[22m\u001b[39m [============>                            ]  29.6 %\r",
      "    \u001b[36m\u001b[1mFetching:\u001b[22m\u001b[39m [============>                            ]  29.8 %\r",
      "    \u001b[36m\u001b[1mFetching:\u001b[22m\u001b[39m [============>                            ]  29.9 %\r",
      "    \u001b[36m\u001b[1mFetching:\u001b[22m\u001b[39m [=============>                           ]  30.0 %\r",
      "    \u001b[36m\u001b[1mFetching:\u001b[22m\u001b[39m [=============>                           ]  30.2 %\r",
      "    \u001b[36m\u001b[1mFetching:\u001b[22m\u001b[39m [=============>                           ]  30.3 %\r",
      "    \u001b[36m\u001b[1mFetching:\u001b[22m\u001b[39m [=============>                           ]  30.5 %\r",
      "    \u001b[36m\u001b[1mFetching:\u001b[22m\u001b[39m [=============>                           ]  30.6 %\r",
      "    \u001b[36m\u001b[1mFetching:\u001b[22m\u001b[39m [=============>                           ]  30.7 %\r",
      "    \u001b[36m\u001b[1mFetching:\u001b[22m\u001b[39m [=============>                           ]  30.9 %\r",
      "    \u001b[36m\u001b[1mFetching:\u001b[22m\u001b[39m [=============>                           ]  31.0 %\r",
      "    \u001b[36m\u001b[1mFetching:\u001b[22m\u001b[39m [=============>                           ]  31.2 %\r",
      "    \u001b[36m\u001b[1mFetching:\u001b[22m\u001b[39m [=============>                           ]  31.3 %\r",
      "    \u001b[36m\u001b[1mFetching:\u001b[22m\u001b[39m [=============>                           ]  31.4 %\r",
      "    \u001b[36m\u001b[1mFetching:\u001b[22m\u001b[39m [=============>                           ]  31.6 %\r",
      "    \u001b[36m\u001b[1mFetching:\u001b[22m\u001b[39m [=============>                           ]  31.7 %\r",
      "    \u001b[36m\u001b[1mFetching:\u001b[22m\u001b[39m [=============>                           ]  31.9 %\r",
      "    \u001b[36m\u001b[1mFetching:\u001b[22m\u001b[39m [=============>                           ]  32.0 %\r",
      "    \u001b[36m\u001b[1mFetching:\u001b[22m\u001b[39m [=============>                           ]  32.1 %\r",
      "    \u001b[36m\u001b[1mFetching:\u001b[22m\u001b[39m [=============>                           ]  32.3 %\r",
      "    \u001b[36m\u001b[1mFetching:\u001b[22m\u001b[39m [=============>                           ]  32.4 %\r",
      "    \u001b[36m\u001b[1mFetching:\u001b[22m\u001b[39m [==============>                          ]  32.6 %\r",
      "    \u001b[36m\u001b[1mFetching:\u001b[22m\u001b[39m [==============>                          ]  32.7 %\r",
      "    \u001b[36m\u001b[1mFetching:\u001b[22m\u001b[39m [==============>                          ]  32.8 %\r",
      "    \u001b[36m\u001b[1mFetching:\u001b[22m\u001b[39m [==============>                          ]  33.0 %\r",
      "    \u001b[36m\u001b[1mFetching:\u001b[22m\u001b[39m [==============>                          ]  33.1 %\r",
      "    \u001b[36m\u001b[1mFetching:\u001b[22m\u001b[39m [==============>                          ]  33.3 %\r",
      "    \u001b[36m\u001b[1mFetching:\u001b[22m\u001b[39m [==============>                          ]  33.4 %\r",
      "    \u001b[36m\u001b[1mFetching:\u001b[22m\u001b[39m [==============>                          ]  33.5 %\r",
      "    \u001b[36m\u001b[1mFetching:\u001b[22m\u001b[39m [==============>                          "
     ]
    },
    {
     "name": "stdout",
     "output_type": "stream",
     "text": [
      "\u001b[2K\u001b[?25h[1mFetching:\u001b[22m\u001b[39m [========================================>]  99.9 %>                ]  57.9 % [==============================>          ]  74.8 %   ]  91.5 %\u001b[36m\u001b[1mFetching:\u001b[22m\u001b[39m [=======================================> ]  95.5 %"
     ]
    },
    {
     "name": "stderr",
     "output_type": "stream",
     "text": [
      "\u001b[32m\u001b[1m  Resolving\u001b[22m\u001b[39m package versions...\n",
      "\u001b[32m\u001b[1m   Updating\u001b[22m\u001b[39m `~/.julia/environments/v1.4/Project.toml`\n",
      "\u001b[90m [no changes]\u001b[39m\n",
      "\u001b[32m\u001b[1m   Updating\u001b[22m\u001b[39m `~/.julia/environments/v1.4/Manifest.toml`\n",
      "\u001b[90m [no changes]\u001b[39m\n",
      "\u001b[32m\u001b[1m  Resolving\u001b[22m\u001b[39m package versions...\n",
      "\u001b[32m\u001b[1m   Updating\u001b[22m\u001b[39m `~/.julia/environments/v1.4/Project.toml`\n",
      "\u001b[90m [no changes]\u001b[39m\n",
      "\u001b[32m\u001b[1m   Updating\u001b[22m\u001b[39m `~/.julia/environments/v1.4/Manifest.toml`\n",
      "\u001b[90m [no changes]\u001b[39m\n",
      "\u001b[32m\u001b[1m  Resolving\u001b[22m\u001b[39m package versions...\n",
      "\u001b[32m\u001b[1m   Updating\u001b[22m\u001b[39m `~/.julia/environments/v1.4/Project.toml`\n",
      "\u001b[90m [no changes]\u001b[39m\n",
      "\u001b[32m\u001b[1m   Updating\u001b[22m\u001b[39m `~/.julia/environments/v1.4/Manifest.toml`\n",
      "\u001b[90m [no changes]\u001b[39m\n"
     ]
    }
   ],
   "source": [
    "import Pkg; Pkg.add(\"Parameters\")\n",
    "using Base.Iterators: partition\n",
    "using BSON\n",
    "using DrWatson: struct2dict\n",
    "using Flux\n",
    "using Flux: logitbinarycrossentropy, chunk, binarycrossentropy\n",
    "using Flux.Data: DataLoader\n",
    "using Images\n",
    "using Logging: with_logger\n",
    "using MLDatasets\n",
    "using Parameters: @with_kw\n",
    "using ProgressMeter: Progress, next!\n",
    "using TensorBoardLogger: TBLogger, tb_overwrite\n",
    "using Random\n",
    "import Pkg; Pkg.add(\"ImageMagick\")\n",
    "import Pkg; Pkg.add(\"ImageIO\")"
   ]
  },
  {
   "cell_type": "code",
   "execution_count": 3,
   "metadata": {},
   "outputs": [
    {
     "data": {
      "text/plain": [
       "2-element Array{Int64,1}:\n",
       " 600\n",
       " 400"
      ]
     },
     "execution_count": 3,
     "metadata": {},
     "output_type": "execute_result"
    }
   ],
   "source": [
    "obs_dim = 784\n",
    "latent_dim = 32\n",
    "hidden_dims = [600, 400]"
   ]
  },
  {
   "cell_type": "code",
   "execution_count": 4,
   "metadata": {},
   "outputs": [
    {
     "data": {
      "text/plain": [
       "Decoder (generic function with 5 methods)"
      ]
     },
     "execution_count": 4,
     "metadata": {},
     "output_type": "execute_result"
    }
   ],
   "source": [
    "# define layers\n",
    "struct Encoder\n",
    "    linear\n",
    "    mu\n",
    "    logsigma\n",
    "    Encoder(obs_dim = 784, latent_dim= 32, hidden_dim=[600, 400], device= \"cpu\") = new(\n",
    "        Chain(Dense(obs_dim, hidden_dims[1], relu), Dense(hidden_dims[1], hidden_dims[2], relu)),   # linear\n",
    "        Dense(hidden_dims[2], latent_dim),        # μ\n",
    "        Dense(hidden_dims[2], latent_dim),        # logσ\n",
    "    )\n",
    "end\n",
    "\n",
    "function (encoder::Encoder)(x)\n",
    "    h = encoder.linear(x)\n",
    "    encoder.mu(h), encoder.logsigma(h)\n",
    "end\n",
    "\n",
    "\n",
    "Decoder(obs_dim= 784, latent_dim= 32, hidden_dim=[600, 400], device= \"cpu\") = Chain(\n",
    "    Dense(latent_dim, hidden_dim[2], relu),\n",
    "    Dense(hidden_dim[2], hidden_dim[1], relu), \n",
    "    Dense(hidden_dims[1], obs_dim, sigmoid)\n",
    ")"
   ]
  },
  {
   "cell_type": "code",
   "execution_count": 5,
   "metadata": {},
   "outputs": [
    {
     "data": {
      "text/plain": [
       "convert_to_image (generic function with 1 method)"
      ]
     },
     "execution_count": 5,
     "metadata": {},
     "output_type": "execute_result"
    }
   ],
   "source": [
    "# define loss function\n",
    "\n",
    "function kl_divergence(mu, logsigma, len)\n",
    "\n",
    "    return 0.5f0 * sum(@. (exp(2f0 * logsigma) + mu^2 -1f0 - 2f0 * logsigma)) / len\n",
    "end\n",
    "\n",
    "function sample_with_reparam(mu, logsigma, device = \"cpu\")\n",
    "    \n",
    "        sample =  mu + randn(Float32, size(logsigma)) .* exp.(logsigma)\n",
    "        return sample \n",
    "end\n",
    "\n",
    "function sample(num_samples, decode)\n",
    "\n",
    "        z = randn((num_samples, latent_dim))\n",
    "        theta = decode(z)\n",
    "        sample = torch.bernoulli(theta)\n",
    "        return sample\n",
    "end\n",
    "\n",
    "function elbo(encode, decode, input, device = \"cpu\")\n",
    "\n",
    "    mu, logsigma = encode(input)\n",
    "    len = size(input)[end]\n",
    "    z = sample_with_reparam(mu, logsigma)\n",
    "    theta = decode(z)\n",
    "    log_obs_prob = -sum(logitbinarycrossentropy(theta, input))/len\n",
    "    kl = kl_divergence(mu, logsigma, len)\n",
    "    elbo = log_obs_prob - kl\n",
    "    return elbo\n",
    "end\n",
    "\n",
    "function convert_to_image(x)\n",
    "    Gray.(permutedims(vcat(reshape.(chunk(sigmoid.(x), 12), 28, :)...), (2, 1)))\n",
    "end"
   ]
  },
  {
   "cell_type": "code",
   "execution_count": 6,
   "metadata": {},
   "outputs": [
    {
     "data": {
      "text/plain": [
       "model_loss (generic function with 1 method)"
      ]
     },
     "execution_count": 6,
     "metadata": {},
     "output_type": "execute_result"
    }
   ],
   "source": [
    "function model_loss(encoder, decoder, x)\n",
    "    mu, logsigma, decoder_z = reconstuct(encoder, decoder, x)\n",
    "    len = size(x)[end]\n",
    "    # KL-divergence\n",
    "    kl_q_p = 0.5f0 * sum(@. (exp(2f0 * logsigma) + mu^2 -1f0 - 2f0 * logsigma)) / len\n",
    "    logp_x_z = -sum(Flux.Losses.binarycrossentropy.(decoder_z, x)) / len\n",
    "    -logp_x_z + kl_q_p \n",
    "end"
   ]
  },
  {
   "cell_type": "code",
   "execution_count": 7,
   "metadata": {},
   "outputs": [
    {
     "data": {
      "text/plain": [
       "reconstuct (generic function with 2 methods)"
      ]
     },
     "execution_count": 7,
     "metadata": {},
     "output_type": "execute_result"
    }
   ],
   "source": [
    "function reconstuct(encoder, decoder, x, device=\"cpu\")\n",
    "    mu, logsigma = encoder(x)\n",
    "    z = mu + randn(Float32, size(logsigma)) .* exp.(logsigma)\n",
    "    mu, logsigma, decoder(z)\n",
    "end"
   ]
  },
  {
   "cell_type": "code",
   "execution_count": 9,
   "metadata": {},
   "outputs": [
    {
     "name": "stdout",
     "output_type": "stream",
     "text": [
      "5000"
     ]
    },
    {
     "data": {
      "text/plain": [
       "200"
      ]
     },
     "execution_count": 9,
     "metadata": {},
     "output_type": "execute_result"
    }
   ],
   "source": [
    "batch_size = 12\n",
    "xtrain, ytrain = MLDatasets.MNIST.traindata(Float32)\n",
    "xtrain = reshape(xtrain, 28^2, :)\n",
    "train_loader = Flux.Data.DataLoader(xtrain, ytrain, batchsize=batch_size, shuffle=true)\n",
    "learning_rate = 1e-4\n",
    "max_epochs = 10\n",
    "display_step = 200"
   ]
  },
  {
   "cell_type": "code",
   "execution_count": 8,
   "metadata": {},
   "outputs": [
    {
     "name": "stderr",
     "output_type": "stream",
     "text": [
      "┌ Warning: `DataLoader(x...; kws...)` is deprecated, use `DataLoader(x; kws...)` instead.\n",
      "│   caller = ip:0x0\n",
      "└ @ Core :-1\n"
     ]
    },
    {
     "ename": "UndefVarError",
     "evalue": "UndefVarError: len not defined",
     "output_type": "error",
     "traceback": [
      "UndefVarError: len not defined",
      "",
      "Stacktrace:",
      " [1] top-level scope at In[8]:5"
     ]
    }
   ],
   "source": [
    "encoder = Encoder()\n",
    "decoder = Decoder()\n",
    "opt = ADAM(learning_rate)\n",
    "device = \"cpu\"\n",
    "ps = Flux.params(encoder.linear, encoder.mu, encoder.logsigma, decoder)\n",
    "tblogger = TBLogger(\"/home/cyrine/VAE_Fluxjl/\", tb_overwrite)\n",
    "original, _ = first(train_loader)\n",
    "\n",
    "# training\n",
    "train_steps = 0\n",
    "@info \"Start Training, total $(max_epochs) epochs\"\n",
    "for epoch = 1:max_epochs\n",
    "    @info \"Epoch $(epoch)\"\n",
    "    progress = Progress(length(train_loader))\n",
    "\n",
    "    for (x, _) in train_loader \n",
    "        loss, back = Flux.pullback(ps) do\n",
    "            model_loss(encoder, decoder, x)\n",
    "        end\n",
    "        grad = back(1f0)\n",
    "        Flux.Optimise.update!(opt, ps, grad)\n",
    "        # progress meter\n",
    "        next!(progress; showvalues=[(:loss, loss)]) \n",
    "\n",
    "        # logging with TensorBoard\n",
    "        if train_steps % display_step == 0\n",
    "            with_logger(tblogger) do\n",
    "                    @info \"train\" loss=loss\n",
    "            end\n",
    "        end\n",
    "\n",
    "        train_steps += 1\n",
    "    end\n",
    "    # save image\n",
    "    _, _, rec_original = reconstuct(encoder, decoder, original, device)\n",
    "    image = convert_to_image(rec_original)\n",
    "    image_path = joinpath(\"/home/cyrine/VAE_Fluxjl/\", \"epoch_$(epoch).png\")\n",
    "    save(image_path, image)\n",
    "    @info \"Image saved: $(image_path)\"\n",
    "end\n",
    "\n",
    "\n",
    "\n",
    "            "
   ]
  },
  {
   "cell_type": "code",
   "execution_count": 8,
   "metadata": {},
   "outputs": [
    {
     "name": "stderr",
     "output_type": "stream",
     "text": [
      "┌ Info: Model saved: /home/cyrine/VAE_Fluxjl/model.bson\n",
      "└ @ Main In[8]:5\n"
     ]
    }
   ],
   "source": [
    "# save model\n",
    "model_path = joinpath(\"/home/cyrine/VAE_Fluxjl/\", \"model.bson\") \n",
    "let encoder = cpu(encoder), decoder = cpu(decoder)\n",
    "    BSON.@save model_path encoder decoder \n",
    "    @info \"Model saved: $(model_path)\"\n",
    "end"
   ]
  }
 ],
 "metadata": {
  "kernelspec": {
   "display_name": "Julia 1.4.2",
   "language": "julia",
   "name": "julia-1.4"
  },
  "language_info": {
   "file_extension": ".jl",
   "mimetype": "application/julia",
   "name": "julia",
   "version": "1.4.2"
  }
 },
 "nbformat": 4,
 "nbformat_minor": 4
}
